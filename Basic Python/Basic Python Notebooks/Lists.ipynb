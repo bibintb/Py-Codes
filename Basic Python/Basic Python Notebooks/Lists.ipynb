{
  "nbformat": 4,
  "nbformat_minor": 0,
  "metadata": {
    "kernelspec": {
      "display_name": "Python",
      "language": "python",
      "name": "conda-env-python-py"
    },
    "language_info": {
      "codemirror_mode": {
        "name": "ipython",
        "version": 3
      },
      "file_extension": ".py",
      "mimetype": "text/x-python",
      "name": "python",
      "nbconvert_exporter": "python",
      "pygments_lexer": "ipython3",
      "version": "3.6.13"
    },
    "colab": {
      "name": "PY0101EN-2-2-Lists.ipynb",
      "provenance": [],
      "collapsed_sections": []
    }
  },
  "cells": [
    {
      "cell_type": "markdown",
      "metadata": {
        "id": "uOUG82lZGg3d"
      },
      "source": [
        "<h1>Lists in Python</h1>"
      ]
    },
    {
      "cell_type": "code",
      "metadata": {
        "jupyter": {
          "outputs_hidden": false
        },
        "id": "EQaz6eXyGg3o",
        "outputId": "9a8e6720-db95-428c-8454-5ff3fc84b868"
      },
      "source": [
        "# Create a list\n",
        "\n",
        "L = [\"Michael Jackson\", 10.1, 1982]\n",
        "L"
      ],
      "execution_count": null,
      "outputs": [
        {
          "output_type": "execute_result",
          "data": {
            "text/plain": [
              "['Michael Jackson', 10.1, 1982]"
            ]
          },
          "metadata": {
            "tags": []
          },
          "execution_count": 1
        }
      ]
    },
    {
      "cell_type": "code",
      "metadata": {
        "jupyter": {
          "outputs_hidden": false
        },
        "id": "-8X-tIqWGg3s",
        "outputId": "dec46131-58c0-4d47-8f4f-6d133c0fe026"
      },
      "source": [
        "# Print the elements on each index\n",
        "\n",
        "print('the same element using negative and positive indexing:\\n Postive:',L[0],\n",
        "'\\n Negative:' , L[-3]  )\n",
        "print('the same element using negative and positive indexing:\\n Postive:',L[1],\n",
        "'\\n Negative:' , L[-2]  )\n",
        "print('the same element using negative and positive indexing:\\n Postive:',L[2],\n",
        "'\\n Negative:' , L[-1]  )"
      ],
      "execution_count": null,
      "outputs": [
        {
          "output_type": "stream",
          "text": [
            "the same element using negative and positive indexing:\n",
            " Postive: Michael Jackson \n",
            " Negative: Michael Jackson\n",
            "the same element using negative and positive indexing:\n",
            " Postive: 10.1 \n",
            " Negative: 10.1\n",
            "the same element using negative and positive indexing:\n",
            " Postive: 1982 \n",
            " Negative: 1982\n"
          ],
          "name": "stdout"
        }
      ]
    },
    {
      "cell_type": "markdown",
      "metadata": {
        "id": "gV9O2WJ5Gg3s"
      },
      "source": [
        "<h3 id=\"content\">List Content</h3>"
      ]
    },
    {
      "cell_type": "code",
      "metadata": {
        "jupyter": {
          "outputs_hidden": false
        },
        "id": "Jo6FJyCwGg3t",
        "outputId": "5e182712-149b-4bb8-c5d0-5469874a9373"
      },
      "source": [
        "# Sample List\n",
        "\n",
        "[\"Michael Jackson\", 10.1, 1982, [1, 2], (\"A\", 1)]"
      ],
      "execution_count": null,
      "outputs": [
        {
          "output_type": "execute_result",
          "data": {
            "text/plain": [
              "['Michael Jackson', 10.1, 1982, [1, 2], ('A', 1)]"
            ]
          },
          "metadata": {
            "tags": []
          },
          "execution_count": 3
        }
      ]
    },
    {
      "cell_type": "markdown",
      "metadata": {
        "id": "J8F_CnlWGg3u"
      },
      "source": [
        "<h3 id=\"op\">List Operations</h3>"
      ]
    },
    {
      "cell_type": "code",
      "metadata": {
        "jupyter": {
          "outputs_hidden": false
        },
        "id": "d1Vy018xGg3v",
        "outputId": "d4662816-e7fe-41e2-f7ec-62f28b85e264"
      },
      "source": [
        "# Sample List\n",
        "\n",
        "L = [\"Michael Jackson\", 10.1,1982,\"MJ\",1]\n",
        "L"
      ],
      "execution_count": null,
      "outputs": [
        {
          "output_type": "execute_result",
          "data": {
            "text/plain": [
              "['Michael Jackson', 10.1, 1982, 'MJ', 1]"
            ]
          },
          "metadata": {
            "tags": []
          },
          "execution_count": 4
        }
      ]
    },
    {
      "cell_type": "code",
      "metadata": {
        "jupyter": {
          "outputs_hidden": false
        },
        "id": "Z3_wjHPUGg3w",
        "outputId": "b2cd07c5-629e-4b3a-e1f2-202d19f022da"
      },
      "source": [
        "# List slicing\n",
        "\n",
        "L[3:5]"
      ],
      "execution_count": null,
      "outputs": [
        {
          "output_type": "execute_result",
          "data": {
            "text/plain": [
              "['MJ', 1]"
            ]
          },
          "metadata": {
            "tags": []
          },
          "execution_count": 5
        }
      ]
    },
    {
      "cell_type": "code",
      "metadata": {
        "jupyter": {
          "outputs_hidden": false
        },
        "id": "2JJd7YnbGg3x",
        "outputId": "3e858399-2970-4e1e-e097-e38d694bb850"
      },
      "source": [
        "# Use extend to add elements to list\n",
        "\n",
        "L = [ \"Michael Jackson\", 10.2]\n",
        "L.extend(['pop', 10])\n",
        "L"
      ],
      "execution_count": null,
      "outputs": [
        {
          "output_type": "execute_result",
          "data": {
            "text/plain": [
              "['Michael Jackson', 10.2, 'pop', 10]"
            ]
          },
          "metadata": {
            "tags": []
          },
          "execution_count": 6
        }
      ]
    },
    {
      "cell_type": "code",
      "metadata": {
        "jupyter": {
          "outputs_hidden": false
        },
        "id": "Mdq3tD28Gg3y",
        "outputId": "b6ff2f84-f23d-4715-dc2b-42261d8e140c"
      },
      "source": [
        "# Use append to add elements to list\n",
        "\n",
        "L = [ \"Michael Jackson\", 10.2]\n",
        "L.append(['pop', 10])\n",
        "L"
      ],
      "execution_count": null,
      "outputs": [
        {
          "output_type": "execute_result",
          "data": {
            "text/plain": [
              "['Michael Jackson', 10.2, ['pop', 10]]"
            ]
          },
          "metadata": {
            "tags": []
          },
          "execution_count": 7
        }
      ]
    },
    {
      "cell_type": "code",
      "metadata": {
        "jupyter": {
          "outputs_hidden": false
        },
        "id": "MIiXx9NfGg3z",
        "outputId": "433dba6f-5187-4d01-9224-b8fe1aaf76b4"
      },
      "source": [
        "# Use extend to add elements to list\n",
        "\n",
        "L = [ \"Michael Jackson\", 10.2]\n",
        "L.extend(['pop', 10])\n",
        "L"
      ],
      "execution_count": null,
      "outputs": [
        {
          "output_type": "execute_result",
          "data": {
            "text/plain": [
              "['Michael Jackson', 10.2, 'pop', 10]"
            ]
          },
          "metadata": {
            "tags": []
          },
          "execution_count": 1
        }
      ]
    },
    {
      "cell_type": "code",
      "metadata": {
        "jupyter": {
          "outputs_hidden": false
        },
        "id": "G_fxYMdWGg30",
        "outputId": "f5e13095-1fdc-4bc1-b8ce-d82d84effb34"
      },
      "source": [
        "# Use append to add elements to list\n",
        "\n",
        "L.append(['a','b'])\n",
        "L"
      ],
      "execution_count": null,
      "outputs": [
        {
          "output_type": "execute_result",
          "data": {
            "text/plain": [
              "['Michael Jackson', 10.2, 'pop', 10, ['a', 'b']]"
            ]
          },
          "metadata": {
            "tags": []
          },
          "execution_count": 2
        }
      ]
    },
    {
      "cell_type": "code",
      "metadata": {
        "jupyter": {
          "outputs_hidden": false
        },
        "id": "bkKI61OcGg31",
        "outputId": "2cd940f5-cb75-4e04-d8d9-7c401224902e"
      },
      "source": [
        "# Change the element based on the index\n",
        "\n",
        "A = [\"disco\", 10, 1.2]\n",
        "print('Before change:', A)\n",
        "A[0] = 'hard rock'\n",
        "print('After change:', A)"
      ],
      "execution_count": null,
      "outputs": [
        {
          "output_type": "stream",
          "text": [
            "Before change: ['disco', 10, 1.2]\n",
            "After change: ['hard rock', 10, 1.2]\n"
          ],
          "name": "stdout"
        }
      ]
    },
    {
      "cell_type": "code",
      "metadata": {
        "jupyter": {
          "outputs_hidden": false
        },
        "id": "E5_YNJhnGg32",
        "outputId": "65066997-6439-4331-b582-a1211ef9cea0"
      },
      "source": [
        "# Delete the element based on the index\n",
        "\n",
        "print('Before change:', A)\n",
        "del(A[0])\n",
        "print('After change:', A)"
      ],
      "execution_count": null,
      "outputs": [
        {
          "output_type": "stream",
          "text": [
            "Before change: ['hard rock', 10, 1.2]\n",
            "After change: [10, 1.2]\n"
          ],
          "name": "stdout"
        }
      ]
    },
    {
      "cell_type": "code",
      "metadata": {
        "jupyter": {
          "outputs_hidden": false
        },
        "id": "DDab_UmLGg32",
        "outputId": "aa4eb89b-a26e-46b6-f59b-13fd7d09a979"
      },
      "source": [
        "# Split the string, default is by space\n",
        "\n",
        "'hard rock'.split()"
      ],
      "execution_count": null,
      "outputs": [
        {
          "output_type": "execute_result",
          "data": {
            "text/plain": [
              "['hard', 'rock']"
            ]
          },
          "metadata": {
            "tags": []
          },
          "execution_count": 5
        }
      ]
    },
    {
      "cell_type": "code",
      "metadata": {
        "jupyter": {
          "outputs_hidden": false
        },
        "id": "Ao7wET4jGg33",
        "outputId": "55828d12-dd7f-4b07-af1e-d5480065e7bd"
      },
      "source": [
        "# Split the string by comma\n",
        "\n",
        "'A,B,C,D'.split(',')"
      ],
      "execution_count": null,
      "outputs": [
        {
          "output_type": "execute_result",
          "data": {
            "text/plain": [
              "['A', 'B', 'C', 'D']"
            ]
          },
          "metadata": {
            "tags": []
          },
          "execution_count": 6
        }
      ]
    },
    {
      "cell_type": "markdown",
      "metadata": {
        "id": "VTRcJ_RiGg34"
      },
      "source": [
        "<h3 id=\"co\">Copy and Clone List</h3>"
      ]
    },
    {
      "cell_type": "code",
      "metadata": {
        "jupyter": {
          "outputs_hidden": false
        },
        "id": "ijJHeNaMGg36",
        "outputId": "23f9116f-ead9-4d2d-95e9-b5eb1c9cf77c"
      },
      "source": [
        "# Copy (copy by reference) the list A\n",
        "\n",
        "A = [\"hard rock\", 10, 1.2]\n",
        "B = A\n",
        "print('A:', A)\n",
        "print('B:', B)"
      ],
      "execution_count": null,
      "outputs": [
        {
          "output_type": "stream",
          "text": [
            "A: ['hard rock', 10, 1.2]\n",
            "B: ['hard rock', 10, 1.2]\n"
          ],
          "name": "stdout"
        }
      ]
    },
    {
      "cell_type": "code",
      "metadata": {
        "jupyter": {
          "outputs_hidden": false
        },
        "id": "NzjK0Ac9Gg37",
        "outputId": "d9230647-31f7-47f5-cda1-9d8e48a9c3fd"
      },
      "source": [
        "# Examine the copy by reference\n",
        "\n",
        "print('B[0]:', B[0])\n",
        "A[0] = \"banana\"\n",
        "print('B[0]:', B[0])"
      ],
      "execution_count": null,
      "outputs": [
        {
          "output_type": "stream",
          "text": [
            "B[0]: hard rock\n",
            "B[0]: banana\n"
          ],
          "name": "stdout"
        }
      ]
    },
    {
      "cell_type": "code",
      "metadata": {
        "jupyter": {
          "outputs_hidden": false
        },
        "id": "PAaBTX37Gg4D",
        "outputId": "463d0fc6-7804-4931-c397-c140082a4005"
      },
      "source": [
        "# Clone (clone by value) the list A\n",
        "\n",
        "B = A[:]\n",
        "B"
      ],
      "execution_count": null,
      "outputs": [
        {
          "output_type": "execute_result",
          "data": {
            "text/plain": [
              "['banana', 10, 1.2]"
            ]
          },
          "metadata": {
            "tags": []
          },
          "execution_count": 9
        }
      ]
    },
    {
      "cell_type": "code",
      "metadata": {
        "jupyter": {
          "outputs_hidden": false
        },
        "id": "KY31gXBkGg4F",
        "outputId": "e1c0f491-e44c-44e1-c519-4430f6715e3f"
      },
      "source": [
        "print('B[0]:', B[0])\n",
        "A[0] = \"hard rock\"\n",
        "print('B[0]:', B[0])"
      ],
      "execution_count": null,
      "outputs": [
        {
          "output_type": "stream",
          "text": [
            "B[0]: banana\n",
            "B[0]: banana\n"
          ],
          "name": "stdout"
        }
      ]
    }
  ]
}
