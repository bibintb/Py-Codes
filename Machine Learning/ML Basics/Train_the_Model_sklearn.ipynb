{
  "nbformat": 4,
  "nbformat_minor": 0,
  "metadata": {
    "colab": {
      "name": "Train the Model sklearn.ipynb",
      "provenance": []
    },
    "kernelspec": {
      "name": "python3",
      "display_name": "Python 3"
    },
    "language_info": {
      "name": "python"
    }
  },
  "cells": [
    {
      "cell_type": "code",
      "metadata": {
        "colab": {
          "base_uri": "https://localhost:8080/"
        },
        "id": "gbMGiH_Xyyct",
        "outputId": "95b2cd61-b07d-49e6-cb6c-30aa3be935b0"
      },
      "source": [
        "from sklearn.datasets import load_iris\n",
        "iris = load_iris()\n",
        "X = iris.data\n",
        "y = iris.target\n",
        "from sklearn.model_selection import train_test_split\n",
        "X_train, X_test, y_train, y_test = train_test_split(\n",
        "   X, y, test_size = 0.4, random_state=1\n",
        ")\n",
        "from sklearn.neighbors import KNeighborsClassifier\n",
        "from sklearn import metrics\n",
        "classifier_knn = KNeighborsClassifier(n_neighbors = 3)\n",
        "classifier_knn.fit(X_train, y_train)\n",
        "y_pred = classifier_knn.predict(X_test)\n",
        "# Finding accuracy by comparing actual response values(y_test)with predicted response value(y_pred)\n",
        "print(\"Accuracy:\", metrics.accuracy_score(y_test, y_pred))\n",
        "# Providing sample data and the model will make prediction out of that data\n",
        "\n",
        "sample = [[5, 5, 3, 2], [2, 4, 3, 5]]\n",
        "preds = classifier_knn.predict(sample)\n",
        "pred_species = [iris.target_names[p] for p in preds] \n",
        "print(\"Predictions:\", pred_species)"
      ],
      "execution_count": 4,
      "outputs": [
        {
          "output_type": "stream",
          "text": [
            "Accuracy: 0.9833333333333333\n",
            "Predictions: ['versicolor', 'virginica']\n"
          ],
          "name": "stdout"
        }
      ]
    }
  ]
}