{
  "nbformat": 4,
  "nbformat_minor": 0,
  "metadata": {
    "kernelspec": {
      "display_name": "Python 3",
      "language": "python",
      "name": "python3"
    },
    "language_info": {
      "codemirror_mode": {
        "name": "ipython",
        "version": 3
      },
      "file_extension": ".py",
      "mimetype": "text/x-python",
      "name": "python",
      "nbconvert_exporter": "python",
      "pygments_lexer": "ipython3",
      "version": "3.7.6"
    },
    "colab": {
      "name": "PY0101EN-1-1-Types.ipynb",
      "provenance": []
    }
  },
  "cells": [
    {
      "cell_type": "code",
      "metadata": {
        "id": "vtCebgH2jEbA"
      },
      "source": [
        "# Try your first Python output\n",
        "\n",
        "print('Hello, Python!')"
      ],
      "execution_count": null,
      "outputs": []
    },
    {
      "cell_type": "code",
      "metadata": {
        "id": "ZU9uVMpIjEbE"
      },
      "source": [
        "# Check the Python Version\n",
        "\n",
        "import sys\n",
        "print(sys.version)"
      ],
      "execution_count": null,
      "outputs": []
    },
    {
      "cell_type": "code",
      "metadata": {
        "id": "KeXZh7GPjEbH"
      },
      "source": [
        "# Practice on writing comments\n",
        "\n",
        "print('Hello, Python!') # This line prints a string\n",
        "# print('Hi')"
      ],
      "execution_count": null,
      "outputs": []
    },
    {
      "cell_type": "markdown",
      "metadata": {
        "id": "F310Ko9UjEbJ"
      },
      "source": [
        "<h3 id=\"errors\">Errors in Python</h3>\n"
      ]
    },
    {
      "cell_type": "code",
      "metadata": {
        "id": "XndF9sCwjEbK"
      },
      "source": [
        "# Print string as error message\n",
        "\n",
        "frint(\"Hello, Python!\")"
      ],
      "execution_count": null,
      "outputs": []
    },
    {
      "cell_type": "code",
      "metadata": {
        "id": "a2uVmZesjEbM"
      },
      "source": [
        "# Try to see build in error message\n",
        "\n",
        "print(\"Hello, Python!)"
      ],
      "execution_count": null,
      "outputs": []
    },
    {
      "cell_type": "markdown",
      "metadata": {
        "id": "T3XtHZx_jEbN"
      },
      "source": [
        "<h3 id=\"python_error\">Does Python know about your error before it runs your code?</h3>\n"
      ]
    },
    {
      "cell_type": "code",
      "metadata": {
        "id": "7kbyey3BjEbO"
      },
      "source": [
        "# Print string and error to see the running order\n",
        "\n",
        "print(\"This will be printed\")\n",
        "frint(\"This will cause an error\")\n",
        "print(\"This will NOT be printed\")"
      ],
      "execution_count": null,
      "outputs": []
    },
    {
      "cell_type": "markdown",
      "metadata": {
        "id": "YbMDGQLwjEbS"
      },
      "source": [
        "<h2 id=\"types_objects\" align=\"center\">Types of objects in Python</h2>\n"
      ]
    },
    {
      "cell_type": "code",
      "metadata": {
        "id": "cHAXIfWdjEbU"
      },
      "source": [
        "# Integer\n",
        "\n",
        "11"
      ],
      "execution_count": null,
      "outputs": []
    },
    {
      "cell_type": "code",
      "metadata": {
        "id": "4wFs4lnMjEbV"
      },
      "source": [
        "# Float\n",
        "\n",
        "2.14"
      ],
      "execution_count": null,
      "outputs": []
    },
    {
      "cell_type": "code",
      "metadata": {
        "id": "Zph_cz7bjEbW"
      },
      "source": [
        "# String\n",
        "\n",
        "\"Hello, Python 101!\""
      ],
      "execution_count": null,
      "outputs": []
    },
    {
      "cell_type": "code",
      "metadata": {
        "id": "idgFQrtPjEbX"
      },
      "source": [
        "# Type of 12\n",
        "\n",
        "type(12)"
      ],
      "execution_count": null,
      "outputs": []
    },
    {
      "cell_type": "code",
      "metadata": {
        "id": "1JASnOmcjEbY"
      },
      "source": [
        "# Type of 2.14\n",
        "\n",
        "type(2.14)"
      ],
      "execution_count": null,
      "outputs": []
    },
    {
      "cell_type": "code",
      "metadata": {
        "id": "km-cMNmYjEbY"
      },
      "source": [
        "# Type of \"Hello, Python 101!\"\n",
        "\n",
        "type(\"Hello, Python 101!\")"
      ],
      "execution_count": null,
      "outputs": []
    },
    {
      "cell_type": "code",
      "metadata": {
        "id": "nFJW4HN0jEbe"
      },
      "source": [
        "# Print the type of -1\n",
        "\n",
        "type(-1)"
      ],
      "execution_count": null,
      "outputs": []
    },
    {
      "cell_type": "code",
      "metadata": {
        "id": "msYXrUTTjEbe"
      },
      "source": [
        "# Print the type of 4\n",
        "\n",
        "type(4)"
      ],
      "execution_count": null,
      "outputs": []
    },
    {
      "cell_type": "code",
      "metadata": {
        "id": "-7txyhfPjEbe"
      },
      "source": [
        "# Print the type of 0\n",
        "\n",
        "type(0)"
      ],
      "execution_count": null,
      "outputs": []
    },
    {
      "cell_type": "markdown",
      "metadata": {
        "id": "nc8CtOdAjEbf"
      },
      "source": [
        "<h3 id=\"float\">Floats</h3> \n"
      ]
    },
    {
      "cell_type": "code",
      "metadata": {
        "id": "hiUxbLdNjEbg"
      },
      "source": [
        "# Print the type of 1.0\n",
        "\n",
        "type(1.0) # Notice that 1 is an int, and 1.0 is a float"
      ],
      "execution_count": null,
      "outputs": []
    },
    {
      "cell_type": "code",
      "metadata": {
        "id": "DWx7ogYSjEbg"
      },
      "source": [
        "# Print the type of 0.5\n",
        "\n",
        "type(0.5)"
      ],
      "execution_count": null,
      "outputs": []
    },
    {
      "cell_type": "code",
      "metadata": {
        "id": "rNyPx77djEbg"
      },
      "source": [
        "# Print the type of 0.56\n",
        "\n",
        "type(0.56)"
      ],
      "execution_count": null,
      "outputs": []
    },
    {
      "cell_type": "code",
      "metadata": {
        "id": "7C0Rb3ezjEbh"
      },
      "source": [
        "# System settings about float type\n",
        "\n",
        "sys.float_info"
      ],
      "execution_count": null,
      "outputs": []
    },
    {
      "cell_type": "markdown",
      "metadata": {
        "id": "UrJZdjyejEbh"
      },
      "source": [
        "<h3 id=\"convert\">Converting from one object type to a different object type</h3>\n"
      ]
    },
    {
      "cell_type": "code",
      "metadata": {
        "colab": {
          "base_uri": "https://localhost:8080/"
        },
        "id": "rUSmPgx7jEbi",
        "outputId": "e5280bde-55cb-4429-8687-bb6fc327289d"
      },
      "source": [
        "# Verify that this is an integer\n",
        "\n",
        "type(2)"
      ],
      "execution_count": null,
      "outputs": [
        {
          "output_type": "execute_result",
          "data": {
            "text/plain": [
              "int"
            ]
          },
          "metadata": {
            "tags": []
          },
          "execution_count": 1
        }
      ]
    },
    {
      "cell_type": "code",
      "metadata": {
        "colab": {
          "base_uri": "https://localhost:8080/"
        },
        "id": "HgbqgRVljEbi",
        "outputId": "3eb05d84-843a-4cb8-c864-9e2365983a1e"
      },
      "source": [
        "# Convert 2 to a float\n",
        "\n",
        "float(2)"
      ],
      "execution_count": null,
      "outputs": [
        {
          "output_type": "execute_result",
          "data": {
            "text/plain": [
              "2.0"
            ]
          },
          "metadata": {
            "tags": []
          },
          "execution_count": 2
        }
      ]
    },
    {
      "cell_type": "code",
      "metadata": {
        "id": "sJR-b_9EjEbj"
      },
      "source": [
        "# Convert integer 2 to a float and check its type\n",
        "\n",
        "type(float(2))"
      ],
      "execution_count": null,
      "outputs": []
    },
    {
      "cell_type": "code",
      "metadata": {
        "colab": {
          "base_uri": "https://localhost:8080/"
        },
        "id": "5zes6hy_jEbj",
        "outputId": "78d6e43c-e528-47df-b753-6c9b1258e788"
      },
      "source": [
        "# Casting 1.1 to integer will result in loss of information\n",
        "\n",
        "int(1.1)"
      ],
      "execution_count": null,
      "outputs": [
        {
          "output_type": "execute_result",
          "data": {
            "text/plain": [
              "1"
            ]
          },
          "metadata": {
            "tags": []
          },
          "execution_count": 3
        }
      ]
    },
    {
      "cell_type": "markdown",
      "metadata": {
        "id": "MhVLNRavjEbj"
      },
      "source": [
        "<h4>Converting from strings to integers or floats</h4>\n"
      ]
    },
    {
      "cell_type": "code",
      "metadata": {
        "colab": {
          "base_uri": "https://localhost:8080/"
        },
        "id": "9tqE_hPijEbk",
        "outputId": "002dc931-240a-4000-87ae-019b5f8f419c"
      },
      "source": [
        "# Convert a string into an integer\n",
        "\n",
        "int('1')"
      ],
      "execution_count": null,
      "outputs": [
        {
          "output_type": "execute_result",
          "data": {
            "text/plain": [
              "1"
            ]
          },
          "metadata": {
            "tags": []
          },
          "execution_count": 4
        }
      ]
    },
    {
      "cell_type": "code",
      "metadata": {
        "colab": {
          "base_uri": "https://localhost:8080/",
          "height": 197
        },
        "id": "yy1c70y8jEbl",
        "outputId": "c18cd06d-3325-4774-a35e-2f5c30f8d5a0"
      },
      "source": [
        "# Convert a string into an integer with error\n",
        "\n",
        "int('1 or 2 people')"
      ],
      "execution_count": null,
      "outputs": [
        {
          "output_type": "error",
          "ename": "ValueError",
          "evalue": "ignored",
          "traceback": [
            "\u001b[0;31m---------------------------------------------------------------------------\u001b[0m",
            "\u001b[0;31mValueError\u001b[0m                                Traceback (most recent call last)",
            "\u001b[0;32m<ipython-input-5-b78145d165c7>\u001b[0m in \u001b[0;36m<module>\u001b[0;34m()\u001b[0m\n\u001b[1;32m      1\u001b[0m \u001b[0;31m# Convert a string into an integer with error\u001b[0m\u001b[0;34m\u001b[0m\u001b[0;34m\u001b[0m\u001b[0;34m\u001b[0m\u001b[0m\n\u001b[1;32m      2\u001b[0m \u001b[0;34m\u001b[0m\u001b[0m\n\u001b[0;32m----> 3\u001b[0;31m \u001b[0mint\u001b[0m\u001b[0;34m(\u001b[0m\u001b[0;34m'1 or 2 people'\u001b[0m\u001b[0;34m)\u001b[0m\u001b[0;34m\u001b[0m\u001b[0;34m\u001b[0m\u001b[0m\n\u001b[0m",
            "\u001b[0;31mValueError\u001b[0m: invalid literal for int() with base 10: '1 or 2 people'"
          ]
        }
      ]
    },
    {
      "cell_type": "code",
      "metadata": {
        "colab": {
          "base_uri": "https://localhost:8080/"
        },
        "id": "kbuba5c6jEbl",
        "outputId": "aa926aa9-88f5-45ca-93a8-e205f1143237"
      },
      "source": [
        "# Convert the string \"1.2\" into a float\n",
        "\n",
        "float('1.2')"
      ],
      "execution_count": null,
      "outputs": [
        {
          "output_type": "execute_result",
          "data": {
            "text/plain": [
              "1.2"
            ]
          },
          "metadata": {
            "tags": []
          },
          "execution_count": 6
        }
      ]
    },
    {
      "cell_type": "markdown",
      "metadata": {
        "id": "2VC3LRMrjEbm"
      },
      "source": [
        "<h4>Converting numbers to strings</h4>\n"
      ]
    },
    {
      "cell_type": "code",
      "metadata": {
        "colab": {
          "base_uri": "https://localhost:8080/",
          "height": 35
        },
        "id": "Z75HIZpNjEbn",
        "outputId": "a8f90a07-b405-4fb2-a48a-30cc3c7abab0"
      },
      "source": [
        "# Convert an integer to a string\n",
        "\n",
        "str(1)\n"
      ],
      "execution_count": null,
      "outputs": [
        {
          "output_type": "execute_result",
          "data": {
            "application/vnd.google.colaboratory.intrinsic+json": {
              "type": "string"
            },
            "text/plain": [
              "'1'"
            ]
          },
          "metadata": {
            "tags": []
          },
          "execution_count": 7
        }
      ]
    },
    {
      "cell_type": "code",
      "metadata": {
        "colab": {
          "base_uri": "https://localhost:8080/",
          "height": 35
        },
        "id": "e6dPfWstjEbo",
        "outputId": "2a1fbb3e-1ea5-4499-9ffd-180b4811fb6c"
      },
      "source": [
        "# Convert a float to a string\n",
        "\n",
        "str(1.2)"
      ],
      "execution_count": null,
      "outputs": [
        {
          "output_type": "execute_result",
          "data": {
            "application/vnd.google.colaboratory.intrinsic+json": {
              "type": "string"
            },
            "text/plain": [
              "'1.2'"
            ]
          },
          "metadata": {
            "tags": []
          },
          "execution_count": 8
        }
      ]
    },
    {
      "cell_type": "markdown",
      "metadata": {
        "id": "J6tS-TqAjEbo"
      },
      "source": [
        "<h3 id=\"bool\">Boolean data type</h3>\n"
      ]
    },
    {
      "cell_type": "code",
      "metadata": {
        "colab": {
          "base_uri": "https://localhost:8080/"
        },
        "id": "T62F86S9jEbp",
        "outputId": "31c578be-bcf8-463d-c1ea-95b5472493e9"
      },
      "source": [
        "# Value true\n",
        "\n",
        "True"
      ],
      "execution_count": null,
      "outputs": [
        {
          "output_type": "execute_result",
          "data": {
            "text/plain": [
              "True"
            ]
          },
          "metadata": {
            "tags": []
          },
          "execution_count": 10
        }
      ]
    },
    {
      "cell_type": "code",
      "metadata": {
        "colab": {
          "base_uri": "https://localhost:8080/"
        },
        "id": "OTwun5SgjEbp",
        "outputId": "1a41c50b-17a7-486c-fc78-9e638dc3ddeb"
      },
      "source": [
        "# Value false\n",
        "\n",
        "False"
      ],
      "execution_count": null,
      "outputs": [
        {
          "output_type": "execute_result",
          "data": {
            "text/plain": [
              "False"
            ]
          },
          "metadata": {
            "tags": []
          },
          "execution_count": 9
        }
      ]
    },
    {
      "cell_type": "code",
      "metadata": {
        "colab": {
          "base_uri": "https://localhost:8080/"
        },
        "id": "1YHpLmVcjEbq",
        "outputId": "93f4ae53-8248-48c7-d1ee-044da419a525"
      },
      "source": [
        "# Type of True\n",
        "\n",
        "type(True)"
      ],
      "execution_count": null,
      "outputs": [
        {
          "output_type": "execute_result",
          "data": {
            "text/plain": [
              "bool"
            ]
          },
          "metadata": {
            "tags": []
          },
          "execution_count": 11
        }
      ]
    },
    {
      "cell_type": "code",
      "metadata": {
        "id": "61gSyfZWjEbq"
      },
      "source": [
        "# Type of False\n",
        "\n",
        "type(False)"
      ],
      "execution_count": null,
      "outputs": []
    },
    {
      "cell_type": "code",
      "metadata": {
        "id": "Hl9zCIuVjEbs"
      },
      "source": [
        "# Convert True to int\n",
        "\n",
        "int(True)"
      ],
      "execution_count": null,
      "outputs": []
    },
    {
      "cell_type": "code",
      "metadata": {
        "id": "MZkEyBXrjEbs"
      },
      "source": [
        "# Convert 1 to boolean\n",
        "\n",
        "bool(1)"
      ],
      "execution_count": null,
      "outputs": []
    },
    {
      "cell_type": "code",
      "metadata": {
        "id": "JkUjb31JjEbt"
      },
      "source": [
        "# Convert 0 to boolean\n",
        "\n",
        "bool(0)"
      ],
      "execution_count": null,
      "outputs": []
    },
    {
      "cell_type": "code",
      "metadata": {
        "id": "VFd3EDrTjEbu"
      },
      "source": [
        "# Convert True to float\n",
        "\n",
        "float(True)"
      ],
      "execution_count": null,
      "outputs": []
    },
    {
      "cell_type": "markdown",
      "metadata": {
        "id": "iQLw0equjEbx"
      },
      "source": [
        "<h3 id=\"exp\">Expressions</h3>\n"
      ]
    },
    {
      "cell_type": "code",
      "metadata": {
        "id": "7BHWoRrCjEby"
      },
      "source": [
        "# Addition operation expression\n",
        "\n",
        "43 + 60 + 16 + 41"
      ],
      "execution_count": null,
      "outputs": []
    },
    {
      "cell_type": "code",
      "metadata": {
        "id": "0FskqsjYjEby"
      },
      "source": [
        "# Subtraction operation expression\n",
        "\n",
        "50 - 60"
      ],
      "execution_count": null,
      "outputs": []
    },
    {
      "cell_type": "code",
      "metadata": {
        "id": "B1su2LtejEbz"
      },
      "source": [
        "# Multiplication operation expression\n",
        "\n",
        "5 * 5"
      ],
      "execution_count": null,
      "outputs": []
    },
    {
      "cell_type": "code",
      "metadata": {
        "id": "ZKcbNPXojEb0"
      },
      "source": [
        "# Division operation expression\n",
        "\n",
        "25 / 5"
      ],
      "execution_count": null,
      "outputs": []
    },
    {
      "cell_type": "code",
      "metadata": {
        "id": "UM_B0fegjEb0"
      },
      "source": [
        "# Division operation expression\n",
        "\n",
        "25 / 6"
      ],
      "execution_count": null,
      "outputs": []
    },
    {
      "cell_type": "code",
      "metadata": {
        "id": "8XWpQSPijEb1"
      },
      "source": [
        "# Integer division operation expression\n",
        "\n",
        "25 // 5"
      ],
      "execution_count": null,
      "outputs": []
    },
    {
      "cell_type": "code",
      "metadata": {
        "id": "V9-zAcCnjEb1"
      },
      "source": [
        "# Integer division operation expression\n",
        "\n",
        "25 // 6"
      ],
      "execution_count": null,
      "outputs": []
    },
    {
      "cell_type": "code",
      "metadata": {
        "id": "6VONpqeTjEb3"
      },
      "source": [
        "# Mathematical expression\n",
        "\n",
        "30 + 2 * 60"
      ],
      "execution_count": null,
      "outputs": []
    },
    {
      "cell_type": "code",
      "metadata": {
        "id": "xfsSftCmjEb4"
      },
      "source": [
        "# Mathematical expression\n",
        "\n",
        "(30 + 2) * 60"
      ],
      "execution_count": null,
      "outputs": []
    },
    {
      "cell_type": "markdown",
      "metadata": {
        "id": "y4uwrjikjEb4"
      },
      "source": [
        "<h3 id=\"var\">Variables</h3>\n"
      ]
    },
    {
      "cell_type": "code",
      "metadata": {
        "id": "eY4OYtVtjEb5"
      },
      "source": [
        "# Store value into variable\n",
        "\n",
        "x = 43 + 60 + 16 + 41"
      ],
      "execution_count": null,
      "outputs": []
    },
    {
      "cell_type": "code",
      "metadata": {
        "id": "FnM55R1_jEb6"
      },
      "source": [
        "# Print out the value in variable\n",
        "\n",
        "x"
      ],
      "execution_count": null,
      "outputs": []
    },
    {
      "cell_type": "code",
      "metadata": {
        "id": "GXn_U7JSjEb6"
      },
      "source": [
        "# Use another variable to store the result of the operation between variable and value\n",
        "\n",
        "y = x / 60\n",
        "y"
      ],
      "execution_count": null,
      "outputs": []
    },
    {
      "cell_type": "code",
      "metadata": {
        "id": "2qdj_b2OjEb8"
      },
      "source": [
        "# Overwrite variable with new value\n",
        "\n",
        "x = x / 60\n",
        "x"
      ],
      "execution_count": null,
      "outputs": []
    },
    {
      "cell_type": "code",
      "metadata": {
        "id": "cphaiGBQjEb9"
      },
      "source": [
        "# Name the variables meaningfully\n",
        "\n",
        "total_min = 43 + 42 + 57 # Total length of albums in minutes\n",
        "total_min"
      ],
      "execution_count": null,
      "outputs": []
    },
    {
      "cell_type": "code",
      "metadata": {
        "id": "gbVVem9WjEb9"
      },
      "source": [
        "# Name the variables meaningfully\n",
        "\n",
        "total_hours = total_min / 60 # Total length of albums in hours \n",
        "total_hours"
      ],
      "execution_count": null,
      "outputs": []
    },
    {
      "cell_type": "code",
      "metadata": {
        "id": "8qyvJkdtjEb-"
      },
      "source": [
        "# Complicate expression\n",
        "\n",
        "total_hours = (43 + 42 + 57) / 60  # Total hours in a single expression\n",
        "total_hours"
      ],
      "execution_count": null,
      "outputs": []
    }
  ]
}
